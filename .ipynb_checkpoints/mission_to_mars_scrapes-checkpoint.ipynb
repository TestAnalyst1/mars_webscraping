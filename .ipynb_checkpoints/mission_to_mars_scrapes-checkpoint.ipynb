{
 "cells": [
  {
   "cell_type": "code",
   "execution_count": 1,
   "metadata": {},
   "outputs": [
    {
     "ename": "ModuleNotFoundError",
     "evalue": "No module named 'tweepy'",
     "output_type": "error",
     "traceback": [
      "\u001b[1;31m---------------------------------------------------------------------------\u001b[0m",
      "\u001b[1;31mModuleNotFoundError\u001b[0m                       Traceback (most recent call last)",
      "\u001b[1;32m<ipython-input-1-ca787d47cbfd>\u001b[0m in \u001b[0;36m<module>\u001b[1;34m\u001b[0m\n\u001b[0;32m      5\u001b[0m \u001b[1;32mfrom\u001b[0m \u001b[0mbs4\u001b[0m \u001b[1;32mimport\u001b[0m \u001b[0mBeautifulSoup\u001b[0m\u001b[1;33m\u001b[0m\u001b[1;33m\u001b[0m\u001b[0m\n\u001b[0;32m      6\u001b[0m \u001b[1;33m\u001b[0m\u001b[0m\n\u001b[1;32m----> 7\u001b[1;33m \u001b[1;32mimport\u001b[0m \u001b[0mtweepy\u001b[0m\u001b[1;33m\u001b[0m\u001b[1;33m\u001b[0m\u001b[0m\n\u001b[0m\u001b[0;32m      8\u001b[0m from config import (consumer_key, consumer_secret, \n\u001b[0;32m      9\u001b[0m                     access_token, access_token_secret)\n",
      "\u001b[1;31mModuleNotFoundError\u001b[0m: No module named 'tweepy'"
     ]
    }
   ],
   "source": [
    "# Import Dependencies\n",
    "import pandas as pd\n",
    "\n",
    "from splinter import Browser\n",
    "from bs4 import BeautifulSoup\n",
    "\n",
    "import tweepy\n",
    "from config import (consumer_key, consumer_secret, \n",
    "                    access_token, access_token_secret)"
   ]
  },
  {
   "cell_type": "code",
   "execution_count": null,
   "metadata": {},
   "outputs": [],
   "source": [
    "# Setup Tweepy API Authentication\n",
    "auth = tweepy.OAuthHandler(consumer_key, consumer_secret)\n",
    "auth.set_access_token(access_token, access_token_secret)\n",
    "api = tweepy.API(auth, parser=tweepy.parsers.JSONParser())"
   ]
  },
  {
   "cell_type": "code",
   "execution_count": null,
   "metadata": {},
   "outputs": [],
   "source": [
    "# Function to initialize the browser for chrome\n",
    "def init_browser():\n",
    "    # @NOTE: Replace the path with your actual path to the chromedriver\n",
    "    executable_path = {\"executable_path\": \"chromedriver\"}\n",
    "    return Browser(\"chrome\", **executable_path, headless=False)"
   ]
  },
  {
   "cell_type": "code",
   "execution_count": 17,
   "metadata": {},
   "outputs": [],
   "source": [
    "Mars_Data = {}"
   ]
  },
  {
   "cell_type": "code",
   "execution_count": 12,
   "metadata": {},
   "outputs": [],
   "source": [
    "#  Function to retrieve NASA Mars News\n",
    "def scrape():\n",
    "    \n",
    "    ### NASA Mars News\n",
    "    \n",
    "    # Initialize browser\n",
    "    browser = init_browser()\n",
    "    \n",
    "    NASA_Mars_News = {}\n",
    "\n",
    "    # Visit the Mars Nasa site for news\n",
    "    url = 'https://mars.nasa.gov/news/'\n",
    "    \n",
    "    # Using url attribute to access the visited page’s url\n",
    "    browser.visit(url)\n",
    "\n",
    "    # Using the html attribute to get the html content of the visited page\n",
    "    html = browser.html\n",
    "    \n",
    "    # Quitting the browser \n",
    "    browser.quit()\n",
    "\n",
    "    MarsNewsData = BeautifulSoup(html, \"html.parser\")\n",
    "\n",
    "    Result = MarsNewsData.select_one('ul.item_list li.slide')\n",
    "    \n",
    "    news_url_link = Result.find('div',class_=\"image_and_description_container\").a['href']\n",
    "    \n",
    "    news_published_date = Result.find('div',class_=\"list_date\").text\n",
    "\n",
    "    news_title = Result.find('div',class_=\"content_title\").text\n",
    "\n",
    "    news_p = Result.find('div',class_=\"article_teaser_body\").text\n",
    "\n",
    "    Mars_News_NASA = {'News_Title':news_title, 'News_Para': news_p, 'News_Published_Date': news_published_date, 'News_url_link':news_url_link}\n",
    "    \n",
    "    return(Mars_News_NASA)"
   ]
  },
  {
   "cell_type": "code",
   "execution_count": 13,
   "metadata": {},
   "outputs": [
    {
     "data": {
      "text/plain": [
       "{'News_Title': 'Opportunity Emerges in a Dusty Picture',\n",
       " 'News_Para': \"NASA still hasn't heard from the Opportunity rover, but at least the agency can see it again.\",\n",
       " 'News_Published_Date': 'September 25, 2018',\n",
       " 'News_url_link': '/news/8370/opportunity-emerges-in-a-dusty-picture/'}"
      ]
     },
     "execution_count": 13,
     "metadata": {},
     "output_type": "execute_result"
    }
   ],
   "source": [
    "scrape()"
   ]
  },
  {
   "cell_type": "code",
   "execution_count": 61,
   "metadata": {},
   "outputs": [],
   "source": [
    "# Function to retrieve JPL Mars Space Images - Featured Image\n",
    "def scrape2():\n",
    "    \n",
    "    ### JPL Mars Space Images - Featured Image\n",
    "   \n",
    "    # Initialize browser\n",
    "    browser = init_browser()\n",
    "\n",
    "    # Visit jpl NASA site for the featured image\n",
    "    url = 'https://www.jpl.nasa.gov/spaceimages/?search=&category=Mars'\n",
    "\n",
    "    # Using url attribute to access the visited page’s url\n",
    "    browser.visit(url)\n",
    "    \n",
    "    # Using the html attribute to get the html content of the visited page\n",
    "    html = browser.html\n",
    "    \n",
    "    # Quitting the browser \n",
    "    browser.quit()\n",
    "\n",
    "    MarsImageData = BeautifulSoup(html,\"html.parser\")\n",
    "    Mars_Img_Art = MarsImageData.find('div',class_='carousel_items').find(\"article\",class_=\"carousel_item\").get(\"style\")\n",
    "    image = Mars_Img_Art.split(\"('\",2)[1].split(\"')\",2)[0]\n",
    "    featured_image_title = MarsImageData.find('div',class_='carousel_items').find(\"article\",class_=\"carousel_item\").get(\"alt\")\n",
    "    featured_image_url = 'https://www.jpl.nasa.gov'+ image\n",
    "\n",
    "    Mars_Featured_Image_NASA = [{\"Featured_Image_Url\": featured_image_url },{\"Featured_Image_Title\": featured_image_title }]\n",
    "\n",
    "    return(Mars_Featured_Image_NASA)"
   ]
  },
  {
   "cell_type": "code",
   "execution_count": 62,
   "metadata": {
    "scrolled": false
   },
   "outputs": [
    {
     "data": {
      "text/plain": [
       "[{'Featured_Image_Url': 'https://www.jpl.nasa.gov/spaceimages/images/wallpaper/PIA18322-1920x1200.jpg'},\n",
       " {'Featured_Image_Title': 'Triple Crescents'}]"
      ]
     },
     "execution_count": 62,
     "metadata": {},
     "output_type": "execute_result"
    }
   ],
   "source": [
    "scrape2()"
   ]
  },
  {
   "cell_type": "code",
   "execution_count": 11,
   "metadata": {},
   "outputs": [],
   "source": [
    "# Function to retrieve Mar's Weather from Twitter\n",
    "def scrape3():\n",
    "    \n",
    "    ### Mars Weather\n",
    "\n",
    "    # Target User Account\n",
    "    target_user = \"@MarsWxReport\"\n",
    "\n",
    "    # Get all tweets from home feed\n",
    "    public_tweets = api.user_timeline(target_user)\n",
    "\n",
    "    mars_weather = \"\"\n",
    "    flag = False\n",
    "\n",
    "    for tweet in public_tweets:\n",
    "        if flag == True:\n",
    "            mars_weather = tweet[\"text\"]\n",
    "            flag = False\n",
    "            break\n",
    "        else:  \n",
    "            if 'Sol' in tweet[\"text\"]:\n",
    "                flag = True\n",
    "\n",
    "    Mars_Weather_Twitter = {\"Mars_Twitter_Weather_News\":mars_weather}            \n",
    "    \n",
    "    return(Mars_Weather_Twitter)"
   ]
  },
  {
   "cell_type": "code",
   "execution_count": 12,
   "metadata": {},
   "outputs": [
    {
     "data": {
      "text/plain": [
       "{'Mars_Twitter_Weather_News': 'Sol 2170 (2018-09-13), high -12C/10F, low -68C/-90F, pressure at 8.86 hPa, daylight 05:42-17:59'}"
      ]
     },
     "execution_count": 12,
     "metadata": {},
     "output_type": "execute_result"
    }
   ],
   "source": [
    "scrape3()"
   ]
  },
  {
   "cell_type": "code",
   "execution_count": 13,
   "metadata": {},
   "outputs": [],
   "source": [
    "# Function to retrieve Mars Facts\n",
    "\n",
    "def scrape4():\n",
    "    ### Mars Facts\n",
    "\n",
    "    browser = init_browser()\n",
    "\n",
    "    url = 'http://space-facts.com/mars/'\n",
    "\n",
    "    browser.visit(url)\n",
    "\n",
    "    MarsFactsData = BeautifulSoup(browser.html,\"html.parser\")\n",
    "\n",
    "    browser.quit()\n",
    "\n",
    "    MarsFactsData.find_all('table')\n",
    "\n",
    "    Marstab = MarsFactsData.find_all('table')\n",
    "\n",
    "    df = pd.read_html(str(Marstab))\n",
    "\n",
    "    # print(df)\n",
    "\n",
    "    df=df[0].set_index([0])\n",
    "\n",
    "    df=df.rename(columns={1:\"Values\"})\n",
    "\n",
    "    df = df.to_html()\n",
    "\n",
    "    marsfactsdf = df\n",
    "\n",
    "    Mars_Facts_SpaceFacts = {\"Mars_Facts_Table\": marsfactsdf}\n",
    "\n",
    "    return(Mars_Facts_SpaceFacts)"
   ]
  },
  {
   "cell_type": "code",
   "execution_count": 14,
   "metadata": {},
   "outputs": [
    {
     "data": {
      "text/plain": [
       "{'Mars_Facts_Table': '<table border=\"1\" class=\"dataframe\">\\n  <thead>\\n    <tr style=\"text-align: right;\">\\n      <th></th>\\n      <th>Values</th>\\n    </tr>\\n    <tr>\\n      <th>0</th>\\n      <th></th>\\n    </tr>\\n  </thead>\\n  <tbody>\\n    <tr>\\n      <th>Equatorial Diameter:</th>\\n      <td>6,792 km</td>\\n    </tr>\\n    <tr>\\n      <th>Polar Diameter:</th>\\n      <td>6,752 km</td>\\n    </tr>\\n    <tr>\\n      <th>Mass:</th>\\n      <td>6.42 x 10^23 kg (10.7% Earth)</td>\\n    </tr>\\n    <tr>\\n      <th>Moons:</th>\\n      <td>2 (Phobos &amp; Deimos)</td>\\n    </tr>\\n    <tr>\\n      <th>Orbit Distance:</th>\\n      <td>227,943,824 km (1.52 AU)</td>\\n    </tr>\\n    <tr>\\n      <th>Orbit Period:</th>\\n      <td>687 days (1.9 years)</td>\\n    </tr>\\n    <tr>\\n      <th>Surface Temperature:</th>\\n      <td>-153 to 20 °C</td>\\n    </tr>\\n    <tr>\\n      <th>First Record:</th>\\n      <td>2nd millennium BC</td>\\n    </tr>\\n    <tr>\\n      <th>Recorded By:</th>\\n      <td>Egyptian astronomers</td>\\n    </tr>\\n  </tbody>\\n</table>'}"
      ]
     },
     "execution_count": 14,
     "metadata": {},
     "output_type": "execute_result"
    }
   ],
   "source": [
    "scrape4()"
   ]
  },
  {
   "cell_type": "code",
   "execution_count": 15,
   "metadata": {},
   "outputs": [],
   "source": [
    "# Function to retrieve Mar's hemispheres\n",
    "\n",
    "def scrape5():\n",
    "\n",
    "    ### Mars Hemispheres\n",
    "\n",
    "    browser = init_browser()\n",
    "\n",
    "    url = 'https://astrogeology.usgs.gov/search/results?q=hemisphere+enhanced&k1=target&v1=Mars'\n",
    "\n",
    "    browser.visit(url)\n",
    "\n",
    "    html = browser.html\n",
    "\n",
    "    browser.quit()\n",
    "\n",
    "    MarsHemisphereImage = BeautifulSoup(html, \"html.parser\")\n",
    "\n",
    "    Img4 = MarsHemisphereImage.find('div', class_='collapsible').find_all('a', class_='product-item')\n",
    "\n",
    "    url = \"https://astrogeology.usgs.gov\"\n",
    "\n",
    "    index = 0\n",
    "    mars_hemispheres_list = []\n",
    "    \n",
    "    for img in Img4:\n",
    "        if index%2!=0:\n",
    "            title = img.find('h3').text\n",
    "\n",
    "            url1 = url+img.get('href')\n",
    "\n",
    "            browser = init_browser()\n",
    "\n",
    "            browser.visit(url1)\n",
    "\n",
    "            html = browser.html\n",
    "\n",
    "            browser.quit()\n",
    "\n",
    "            MarsHemisphereImages = BeautifulSoup(html, \"html.parser\")\n",
    "\n",
    "            MarshemisImage = MarsHemisphereImages.find('img', class_='wide-image')\n",
    "\n",
    "            link = MarshemisImage.get('src')\n",
    "\n",
    "            Image_url = url+link\n",
    "\n",
    "            print(Image_url)\n",
    "            \n",
    "            mars_hemispheres_list.append({'title':title,'img_url':Image_url})\n",
    "\n",
    "        index=index+1\n",
    "        \n",
    "    Mars_Data['Mars_Hemispheres'] = mars_hemispheres_list\n",
    "                                                            \n",
    "    return(Mars_Data)                                                    "
   ]
  },
  {
   "cell_type": "code",
   "execution_count": 16,
   "metadata": {},
   "outputs": [
    {
     "name": "stdout",
     "output_type": "stream",
     "text": [
      "https://astrogeology.usgs.gov/cache/images/cfa62af2557222a02478f1fcd781d445_cerberus_enhanced.tif_full.jpg\n",
      "https://astrogeology.usgs.gov/cache/images/3cdd1cbf5e0813bba925c9030d13b62e_schiaparelli_enhanced.tif_full.jpg\n",
      "https://astrogeology.usgs.gov/cache/images/ae209b4e408bb6c3e67b6af38168cf28_syrtis_major_enhanced.tif_full.jpg\n",
      "https://astrogeology.usgs.gov/cache/images/7cf2da4bf549ed01c17f206327be4db7_valles_marineris_enhanced.tif_full.jpg\n"
     ]
    },
    {
     "data": {
      "text/plain": [
       "{'Mars_Hemispheres': [{'title': 'Cerberus Hemisphere Enhanced',\n",
       "   'img_url': 'https://astrogeology.usgs.gov/cache/images/cfa62af2557222a02478f1fcd781d445_cerberus_enhanced.tif_full.jpg'},\n",
       "  {'title': 'Schiaparelli Hemisphere Enhanced',\n",
       "   'img_url': 'https://astrogeology.usgs.gov/cache/images/3cdd1cbf5e0813bba925c9030d13b62e_schiaparelli_enhanced.tif_full.jpg'},\n",
       "  {'title': 'Syrtis Major Hemisphere Enhanced',\n",
       "   'img_url': 'https://astrogeology.usgs.gov/cache/images/ae209b4e408bb6c3e67b6af38168cf28_syrtis_major_enhanced.tif_full.jpg'},\n",
       "  {'title': 'Valles Marineris Hemisphere Enhanced',\n",
       "   'img_url': 'https://astrogeology.usgs.gov/cache/images/7cf2da4bf549ed01c17f206327be4db7_valles_marineris_enhanced.tif_full.jpg'}]}"
      ]
     },
     "execution_count": 16,
     "metadata": {},
     "output_type": "execute_result"
    }
   ],
   "source": [
    "scrape5()"
   ]
  }
 ],
 "metadata": {
  "kernelspec": {
   "display_name": "Python 3",
   "language": "python",
   "name": "python3"
  },
  "language_info": {
   "codemirror_mode": {
    "name": "ipython",
    "version": 3
   },
   "file_extension": ".py",
   "mimetype": "text/x-python",
   "name": "python",
   "nbconvert_exporter": "python",
   "pygments_lexer": "ipython3",
   "version": "3.7.3"
  }
 },
 "nbformat": 4,
 "nbformat_minor": 2
}
